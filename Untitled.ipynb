{
 "cells": [
  {
   "cell_type": "code",
   "execution_count": 30,
   "id": "a48d72d0-c6bf-4ad1-9641-45a64e615c9a",
   "metadata": {},
   "outputs": [
    {
     "ename": "ModuleNotFoundError",
     "evalue": "No module named 'textual'",
     "output_type": "error",
     "traceback": [
      "\u001b[0;31m---------------------------------------------------------------------------\u001b[0m",
      "\u001b[0;31mModuleNotFoundError\u001b[0m                       Traceback (most recent call last)",
      "Cell \u001b[0;32mIn[30], line 9\u001b[0m\n\u001b[1;32m      7\u001b[0m \u001b[38;5;28;01mfrom\u001b[39;00m \u001b[38;5;21;01mhydra\u001b[39;00m\u001b[38;5;21;01m.\u001b[39;00m\u001b[38;5;21;01mcore\u001b[39;00m\u001b[38;5;21;01m.\u001b[39;00m\u001b[38;5;21;01mglobal_hydra\u001b[39;00m \u001b[38;5;28;01mimport\u001b[39;00m GlobalHydra\n\u001b[1;32m      8\u001b[0m \u001b[38;5;28;01mimport\u001b[39;00m \u001b[38;5;21;01mpytz\u001b[39;00m\n\u001b[0;32m----> 9\u001b[0m \u001b[38;5;28;01mfrom\u001b[39;00m \u001b[38;5;21;01mtextual\u001b[39;00m\u001b[38;5;21;01m.\u001b[39;00m\u001b[38;5;21;01mweb\u001b[39;00m \u001b[38;5;28;01mimport\u001b[39;00m WebMount\n",
      "\u001b[0;31mModuleNotFoundError\u001b[0m: No module named 'textual'"
     ]
    }
   ],
   "source": [
    "import requests\n",
    "from hydra import compose, initialize\n",
    "from omegaconf import DictConfig, OmegaConf\n",
    "from pandas import DataFrame, concat, to_datetime\n",
    "from pycoingecko import CoinGeckoAPI\n",
    "from datetime import datetime\n",
    "from hydra.core.global_hydra import GlobalHydra\n",
    "import pytz\n",
    "from textual.web import WebMount"
   ]
  },
  {
   "cell_type": "code",
   "execution_count": 9,
   "id": "65c4d637-2da7-45ad-86fc-dffb1f1cdd57",
   "metadata": {},
   "outputs": [],
   "source": [
    "class ApiReader:\n",
    "    def __init__(self, config_path: str):\n",
    "        try:\n",
    "            initialize(config_path, config_path, version_base=None)\n",
    "        except ValueError:\n",
    "            GlobalHydra.instance().clear()\n",
    "            initialize(config_path, config_path, version_base=None)\n",
    "        cfg = compose(config_name='conf')\n",
    "\n",
    "        self.mc_api = cfg.default_values.miningcore_api\n",
    "\n",
    "    def get_api_data(self, api_url):\n",
    "        try:\n",
    "            # Send a GET request to the API\n",
    "            response = requests.get(api_url)\n",
    "            # Check if the request was successful (status code 200)\n",
    "            if response.status_code == 200:\n",
    "                # Parse the response as JSON (assuming the API returns JSON data)\n",
    "                data = response.json()\n",
    "                return data\n",
    "            else:\n",
    "                print(f\"Failed to retrieve data: Status code {response.status_code}\")\n",
    "                return None\n",
    "    \n",
    "        except requests.exceptions.RequestException as e:\n",
    "            # Handle any exceptions that occur during the request\n",
    "            print(f\"An error occurred: {e}\")\n",
    "            return None\n",
    "            \n",
    "    def get_pool_stats(self):\n",
    "        url = '{}/{}'.format(self.mc_api, 'poolstats')\n",
    "        pool_data = self.get_api_data(url)\n",
    "\n",
    "        latest_sample = pool_data[-1]\n",
    "        return latest_sample\n",
    "\n",
    "    def get_mining_stats(self):\n",
    "        url = '{}/{}'.format(self.mc_api, 'minerstats')\n",
    "        miner_data = self.get_api_data(url)\n",
    "        return miner_data\n",
    "\n",
    "    def get_block_stats(self):\n",
    "        url = '{}/{}'.format(self.mc_api, 'blocks')\n",
    "        blocks = self.get_api_data(url)\n",
    "        return blocks"
   ]
  },
  {
   "cell_type": "code",
   "execution_count": 10,
   "id": "56c10484-7864-4afa-9a7e-7d775b232c06",
   "metadata": {
    "scrolled": true
   },
   "outputs": [],
   "source": [
    "import pandas as pd\n",
    "import json\n",
    "from io import StringIO\n",
    "\n",
    "reader = ApiReader('conf')\n",
    "mining_data = reader.get_mining_stats()\n",
    "\n",
    "\n",
    "# data = json.loads(data_string)\n",
    "\n",
    "# Create a DataFrame\n",
    "df = pd.DataFrame(mining_data)\n",
    "\n",
    "# Convert 'created' column to datetime\n",
    "df['created'] = pd.to_datetime(df['created'])\n",
    "\n",
    "# Group by miner and created timestamp, sum the hashrate\n",
    "summary_df = df.groupby(['miner', 'created'])['hashrate'].sum().reset_index()\n",
    "\n",
    "# Sort the dataframe by created timestamp\n",
    "summary_df = summary_df.sort_values('created')"
   ]
  },
  {
   "cell_type": "code",
   "execution_count": 28,
   "id": "91fdbbae-f1bb-490e-ab14-99737209d3b3",
   "metadata": {},
   "outputs": [
    {
     "data": {
      "text/plain": [
       "2013    1.874761e+09\n",
       "Name: hashrate, dtype: float64"
      ]
     },
     "execution_count": 28,
     "metadata": {},
     "output_type": "execute_result"
    }
   ],
   "source": [
    "hash = summary_df[summary_df.created == max(summary_df.created)].hashrate\n"
   ]
  },
  {
   "cell_type": "code",
   "execution_count": 29,
   "id": "d0e2a391-dcff-436e-a224-21226340d2f6",
   "metadata": {},
   "outputs": [
    {
     "data": {
      "text/html": [
       "<div>\n",
       "<style scoped>\n",
       "    .dataframe tbody tr th:only-of-type {\n",
       "        vertical-align: middle;\n",
       "    }\n",
       "\n",
       "    .dataframe tbody tr th {\n",
       "        vertical-align: top;\n",
       "    }\n",
       "\n",
       "    .dataframe thead th {\n",
       "        text-align: right;\n",
       "    }\n",
       "</style>\n",
       "<table border=\"1\" class=\"dataframe\">\n",
       "  <thead>\n",
       "    <tr style=\"text-align: right;\">\n",
       "      <th></th>\n",
       "      <th>miner</th>\n",
       "      <th>created</th>\n",
       "      <th>hashrate</th>\n",
       "    </tr>\n",
       "  </thead>\n",
       "  <tbody>\n",
       "    <tr>\n",
       "      <th>2013</th>\n",
       "      <td>9ehJZvPDgvCNNd2zTQHxnSpcCAtb1kHbEN1VAgeoRD5DPV...</td>\n",
       "      <td>2024-09-07 16:19:15.683638+00:00</td>\n",
       "      <td>1.874761e+09</td>\n",
       "    </tr>\n",
       "  </tbody>\n",
       "</table>\n",
       "</div>"
      ],
      "text/plain": [
       "                                                  miner  \\\n",
       "2013  9ehJZvPDgvCNNd2zTQHxnSpcCAtb1kHbEN1VAgeoRD5DPV...   \n",
       "\n",
       "                              created      hashrate  \n",
       "2013 2024-09-07 16:19:15.683638+00:00  1.874761e+09  "
      ]
     },
     "execution_count": 29,
     "metadata": {},
     "output_type": "execute_result"
    }
   ],
   "source": [
    "summary_df[summary_df.created == max(summary_df.created)]"
   ]
  },
  {
   "cell_type": "code",
   "execution_count": null,
   "id": "5e70e3ca-2b86-400f-b915-96fbc8535e99",
   "metadata": {},
   "outputs": [],
   "source": []
  }
 ],
 "metadata": {
  "kernelspec": {
   "display_name": "Python 3 (ipykernel)",
   "language": "python",
   "name": "python3"
  },
  "language_info": {
   "codemirror_mode": {
    "name": "ipython",
    "version": 3
   },
   "file_extension": ".py",
   "mimetype": "text/x-python",
   "name": "python",
   "nbconvert_exporter": "python",
   "pygments_lexer": "ipython3",
   "version": "3.10.12"
  }
 },
 "nbformat": 4,
 "nbformat_minor": 5
}
